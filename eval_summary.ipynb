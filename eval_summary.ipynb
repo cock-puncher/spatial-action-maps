{
 "cells": [
  {
   "cell_type": "code",
   "execution_count": null,
   "metadata": {},
   "outputs": [],
   "source": [
    "from pathlib import Path\n",
    "\n",
    "import ipywidgets as widgets\n",
    "\n",
    "# Avoid non-compliant Type 3 fonts\n",
    "import matplotlib\n",
    "matplotlib.rcParams['pdf.fonttype'] = 42  # pylint: disable=wrong-import-position\n",
    "\n",
    "import matplotlib.pyplot as plt\n",
    "import numpy as np\n",
    "import pandas as pd\n",
    "from ipywidgets import interact\n",
    "from IPython.display import display\n",
    "from tqdm import tqdm_notebook as tqdm\n",
    "\n",
    "import utils"
   ]
  },
  {
   "cell_type": "code",
   "execution_count": null,
   "metadata": {},
   "outputs": [],
   "source": [
    "pd.set_option('display.max_rows', None)\n",
    "plt.rcParams['figure.figsize'] = (12, 8)"
   ]
  },
  {
   "cell_type": "code",
   "execution_count": null,
   "metadata": {},
   "outputs": [],
   "source": [
    "logs_dir = Path('logs')\n",
    "eval_dir = logs_dir.parent / 'eval'\n",
    "obstacle_configs = ['small_empty', 'small_columns', 'large_columns', 'large_divider']"
   ]
  },
  {
   "cell_type": "code",
   "execution_count": null,
   "metadata": {},
   "outputs": [],
   "source": [
    "def load_data(cfg):\n",
    "    eval_path = eval_dir / '{}.npy'.format(cfg.run_name)\n",
    "    if eval_path.exists():\n",
    "        return np.load(eval_path, allow_pickle=True)\n",
    "    #print('Eval file for {} was not found'.format(cfg.run_name))\n",
    "    return None"
   ]
  },
  {
   "cell_type": "code",
   "execution_count": null,
   "metadata": {},
   "outputs": [],
   "source": [
    "def show_table():\n",
    "    all_data = {}\n",
    "    for log_dir in tqdm(list(logs_dir.iterdir())):\n",
    "        # Load eval data for run\n",
    "        cfg = utils.read_config(str(log_dir / 'config.yml'))\n",
    "        data = load_data(cfg)\n",
    "        if data is None:\n",
    "            continue\n",
    "\n",
    "        # Add mean cubes for run\n",
    "        if cfg.experiment_name not in all_data:\n",
    "            all_data[cfg.experiment_name] = []\n",
    "        mean_cubes = np.mean([episode[-1]['cubes'] for episode in data])\n",
    "        all_data[cfg.experiment_name].append(mean_cubes)\n",
    "\n",
    "    # Replace runs with mean/std of runs\n",
    "    for experiment_name, cubes_list in all_data.items():\n",
    "        all_data[experiment_name] = '{:.2f} ± {:.2f}'.format(np.mean(cubes_list), np.std(cubes_list))\n",
    "\n",
    "    # Display in table\n",
    "    def f(obstacle_config):\n",
    "        data = {'cubes': {\n",
    "            experiment_name: cubes for experiment_name, cubes in all_data.items()\n",
    "            if experiment_name.startswith(obstacle_config)\n",
    "        }}\n",
    "        display(pd.DataFrame(data))\n",
    "    interact(f, obstacle_config=widgets.Dropdown(options=obstacle_configs))"
   ]
  },
  {
   "cell_type": "code",
   "execution_count": null,
   "metadata": {
    "scrolled": false
   },
   "outputs": [],
   "source": [
    "show_table()"
   ]
  },
  {
   "cell_type": "code",
   "execution_count": null,
   "metadata": {},
   "outputs": [],
   "source": [
    "def extend_curves(curves):\n",
    "    if len(curves) == 0:\n",
    "        return curves\n",
    "    max_length = max(len(curve) for curve in curves)\n",
    "    for i, curve in enumerate(curves):\n",
    "        curves[i] = np.pad(curve, (0, max_length - len(curve)), 'edge')\n",
    "    return curves"
   ]
  },
  {
   "cell_type": "code",
   "execution_count": null,
   "metadata": {},
   "outputs": [],
   "source": [
    "def get_curve_for_run(data, step_size):\n",
    "    curves = []\n",
    "    for episode in data:\n",
    "        cubes = np.asarray([step['cubes'] for step in episode])\n",
    "        cumulative_distance = np.asarray([step['distance'] for step in episode])\n",
    "        x = np.arange(0, cumulative_distance[-1] + step_size, step_size)\n",
    "        xp, fp = cumulative_distance, cubes\n",
    "        curves.append(np.floor(np.interp(x, xp, fp, left=0)))\n",
    "    curves = extend_curves(curves)\n",
    "    return np.mean(curves, axis=0)"
   ]
  },
  {
   "cell_type": "code",
   "execution_count": null,
   "metadata": {},
   "outputs": [],
   "source": [
    "def get_label(experiment_name):\n",
    "    parts = experiment_name.split('-')\n",
    "    if len(parts) == 1:\n",
    "        return 'Ours'\n",
    "    return {\n",
    "        'fixed_step_size': 'Ours, fixed step size',\n",
    "        'steering_commands': 'Steering commands',\n",
    "        'no_partial_rewards': 'Ours, no partial rewards',\n",
    "        'no_sp_components': 'Ours, no shortest path components',\n",
    "        'no_sp_from_agent': 'Ours, no sp from agent',\n",
    "        'no_sp_to_receptacle': 'Ours, no sp to receptacle',\n",
    "        'no_sp_movement': 'Ours, no sp movement',\n",
    "        'no_sp_in_rewards': 'Ours, no sp in rewards',\n",
    "        'steering_commands-no_sp_components': 'Steering commands, no sp',\n",
    "    }['-'.join(parts[1:])]"
   ]
  },
  {
   "cell_type": "code",
   "execution_count": null,
   "metadata": {
    "scrolled": false
   },
   "outputs": [],
   "source": [
    "def show_curves():\n",
    "    step_size = 0.1\n",
    "\n",
    "    all_curves = {}\n",
    "    for log_dir in tqdm(list(logs_dir.iterdir())):\n",
    "        # Load eval data for run\n",
    "        cfg = utils.read_config(str(log_dir / 'config.yml'))\n",
    "        data = load_data(cfg)\n",
    "        if data is None:\n",
    "            continue\n",
    "\n",
    "        # Add curve for run\n",
    "        if cfg.experiment_name not in all_curves:\n",
    "            all_curves[cfg.experiment_name] = []\n",
    "        all_curves[cfg.experiment_name].append(get_curve_for_run(data, step_size))\n",
    "\n",
    "    def plot_curves(obstacle_config, experiment_names, fontsize=20):\n",
    "        for experiment_name in experiment_names:\n",
    "            curves = extend_curves(all_curves[experiment_name])\n",
    "            x = np.arange(0, (len(curves[0]) - 0.5) * step_size, step_size)\n",
    "            y_mean = np.mean(curves, axis=0)\n",
    "            y_std = np.std(curves, axis=0)\n",
    "            plt.plot(x, y_mean, label=get_label(experiment_name))\n",
    "            plt.fill_between(x, y_mean - y_std, y_mean + y_std, alpha=0.2)\n",
    "        plt.xlabel('Distance (m)', fontsize=fontsize)\n",
    "        plt.ylabel('Num Blocks', fontsize=fontsize)\n",
    "        if obstacle_config == 'large_divider':\n",
    "            plt.xlim(0, 120)\n",
    "        num_cubes = 20 if obstacle_config.startswith('large') else 10\n",
    "        plt.ylim(0, num_cubes)\n",
    "        plt.xticks(fontsize=fontsize - 2)\n",
    "        plt.yticks(range(0, num_cubes + 1, 2), fontsize=fontsize - 2)\n",
    "        plt.legend(fontsize=fontsize - 2, loc='upper left')\n",
    "\n",
    "    def f(obstacle_config, experiment_names, save_to_pdf):\n",
    "        if len(experiment_names) == 0:\n",
    "            return\n",
    "        plot_curves(obstacle_config, experiment_names)\n",
    "        if save_to_pdf:\n",
    "            plt.savefig('curves-{}.pdf'.format(obstacle_config), bbox_inches='tight')\n",
    "        else:\n",
    "            plt.show()\n",
    "\n",
    "    obstacle_config_dropdown = widgets.Dropdown(options=obstacle_configs)\n",
    "    experiment_names_select = widgets.SelectMultiple(layout=widgets.Layout(width='50%'))\n",
    "    save_toggle = widgets.ToggleButton(description='Save to PDF')\n",
    "    def update_experiment_names_options(*_):\n",
    "        matching_experiment_names = []\n",
    "        for experiment_name in all_curves:\n",
    "            if experiment_name.startswith(obstacle_config_dropdown.value):\n",
    "                matching_experiment_names.append(experiment_name)\n",
    "        experiment_names_select.options = matching_experiment_names\n",
    "        experiment_names_select.rows = len(matching_experiment_names)\n",
    "    obstacle_config_dropdown.observe(update_experiment_names_options)\n",
    "\n",
    "    interact(f, obstacle_config=obstacle_config_dropdown,\n",
    "             experiment_names=experiment_names_select, save_to_pdf=save_toggle)"
   ]
  },
  {
   "cell_type": "code",
   "execution_count": null,
   "metadata": {
    "scrolled": false
   },
   "outputs": [],
   "source": [
    "show_curves()"
   ]
  },
  {
   "cell_type": "code",
   "execution_count": null,
   "metadata": {},
   "outputs": [],
   "source": []
  }
 ],
 "metadata": {
  "kernelspec": {
   "display_name": "Python 3",
   "language": "python",
   "name": "python3"
  },
  "language_info": {
   "codemirror_mode": {
    "name": "ipython",
    "version": 3
   },
   "file_extension": ".py",
   "mimetype": "text/x-python",
   "name": "python",
   "nbconvert_exporter": "python",
   "pygments_lexer": "ipython3",
   "version": "3.7.7"
  }
 },
 "nbformat": 4,
 "nbformat_minor": 2
}
